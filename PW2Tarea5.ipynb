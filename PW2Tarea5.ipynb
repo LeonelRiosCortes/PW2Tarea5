{
  "nbformat": 4,
  "nbformat_minor": 0,
  "metadata": {
    "colab": {
      "provenance": [],
      "authorship_tag": "ABX9TyN/egWYvDxqYQUkibfrxYm7",
      "include_colab_link": true
    },
    "kernelspec": {
      "name": "python3",
      "display_name": "Python 3"
    },
    "language_info": {
      "name": "python"
    }
  },
  "cells": [
    {
      "cell_type": "markdown",
      "metadata": {
        "id": "view-in-github",
        "colab_type": "text"
      },
      "source": [
        "<a href=\"https://colab.research.google.com/github/LeonelRiosCortes/PW2Tarea5/blob/main/PW2Tarea5.ipynb\" target=\"_parent\"><img src=\"https://colab.research.google.com/assets/colab-badge.svg\" alt=\"Open In Colab\"/></a>"
      ]
    },
    {
      "cell_type": "code",
      "execution_count": 2,
      "metadata": {
        "colab": {
          "base_uri": "https://localhost:8080/"
        },
        "id": "BA2fOVtLMJ7J",
        "outputId": "2876183f-3397-4136-957f-4de1b7bae300"
      },
      "outputs": [
        {
          "output_type": "stream",
          "name": "stdout",
          "text": [
            "Leonel Rios Cortes\n"
          ]
        }
      ],
      "source": [
        "#Mostrar Nombre\n",
        "Nombre = \"Leonel Rios Cortes\"\n",
        "print(Nombre)"
      ]
    },
    {
      "cell_type": "code",
      "source": [
        "#Preguntar Nombre\n",
        "Nombre = input(\"¿Cual es tu nombre?\")\n",
        "print(\"Hola \"+ Nombre)"
      ],
      "metadata": {
        "colab": {
          "base_uri": "https://localhost:8080/"
        },
        "id": "wEBeYggDMP4Q",
        "outputId": "45d0ec7a-f30c-44ca-be2e-47321a485a08"
      },
      "execution_count": 5,
      "outputs": [
        {
          "output_type": "stream",
          "name": "stdout",
          "text": [
            "¿Cual es tu nombre?Leonel Rios Cortes\n",
            "Hola Leonel Rios Cortes\n"
          ]
        }
      ]
    },
    {
      "cell_type": "code",
      "source": [
        "#Suma\n",
        "A = int(input(\"Ingresa el primer numero a sumar\"))\n",
        "B = int(input(\"Ingresa el segundo numero a sumar\"))\n",
        "R = A + B\n",
        "print(f'El resultado es: {R}')\n"
      ],
      "metadata": {
        "colab": {
          "base_uri": "https://localhost:8080/"
        },
        "id": "0lFDPaFKNot1",
        "outputId": "82a879b1-9384-413b-aa63-269c96128579"
      },
      "execution_count": 16,
      "outputs": [
        {
          "output_type": "stream",
          "name": "stdout",
          "text": [
            "Ingresa el primer numero a sumar8\n",
            "Ingresa el segundo numero a sumar7\n",
            "El resultado es: 15\n"
          ]
        }
      ]
    },
    {
      "cell_type": "code",
      "source": [
        "from random import randint\n",
        "from IPython.utils.path import random\n",
        "#Adivinar Numero\n",
        "Numg = randint(1, 10)\n",
        "NumA = 0\n",
        "while(Numg != NumA):\n",
        "  NumA = int(input(\"Adivina el número del 1 al 10  \"))\n",
        "  if NumA == Numg:\n",
        "    print(\"Acertaste!\")\n",
        "  else:\n",
        "    print(\"Fallaste, intentalo denuevo\")"
      ],
      "metadata": {
        "colab": {
          "base_uri": "https://localhost:8080/"
        },
        "id": "rUphAzPgPeNu",
        "outputId": "a067fc62-1e0d-4184-bda0-0fc4171d4f1b"
      },
      "execution_count": 32,
      "outputs": [
        {
          "output_type": "stream",
          "name": "stdout",
          "text": [
            "Adivina el número del 1 al 10  5\n",
            "Fallaste, intentalo denuevo\n",
            "Adivina el número del 1 al 10  4\n",
            "Fallaste, intentalo denuevo\n",
            "Adivina el número del 1 al 10  3\n",
            "Fallaste, intentalo denuevo\n",
            "Adivina el número del 1 al 10  2\n",
            "Fallaste, intentalo denuevo\n",
            "Adivina el número del 1 al 10  1\n",
            "Fallaste, intentalo denuevo\n",
            "Adivina el número del 1 al 10  6\n",
            "Fallaste, intentalo denuevo\n",
            "Adivina el número del 1 al 10  7\n",
            "Acertaste!\n"
          ]
        }
      ]
    },
    {
      "cell_type": "code",
      "source": [
        "#And\n",
        "A = int(input(\"A es 1 o 0 \"))\n",
        "B = int(input(\"B es 1 o 0 \"))\n",
        "if A==B:\n",
        "  print(\"Pasa la compuerta And\")\n",
        "else:\n",
        "  print(\"No pasa la compuerta And\")"
      ],
      "metadata": {
        "colab": {
          "base_uri": "https://localhost:8080/"
        },
        "id": "b8FvCMMXUL2s",
        "outputId": "bfebc814-a655-4cad-bf52-cc52e4da977d"
      },
      "execution_count": 45,
      "outputs": [
        {
          "output_type": "stream",
          "name": "stdout",
          "text": [
            "A es 1 o 0 1\n",
            "B es 1 o 0 1\n",
            "Pasa la compuerta And\n"
          ]
        }
      ]
    },
    {
      "cell_type": "code",
      "source": [
        "#or\n",
        "A = int(input(\"A es 1 o 0 \"))\n",
        "B = int(input(\"B es 1 o 0 \"))\n",
        "if (A == 1 or B == 1):\n",
        "  print(\"Pasa la compuerta Or\")\n",
        "else:\n",
        "  print(\"No pasa la compuerta Or\")"
      ],
      "metadata": {
        "colab": {
          "base_uri": "https://localhost:8080/"
        },
        "id": "OAiQ0o16Wu87",
        "outputId": "22eea229-c145-422c-d6a6-e1581ef9f39e"
      },
      "execution_count": 48,
      "outputs": [
        {
          "output_type": "stream",
          "name": "stdout",
          "text": [
            "A es 1 o 0 0\n",
            "B es 1 o 0 1\n",
            "Pasa la compuerta Or\n"
          ]
        }
      ]
    },
    {
      "cell_type": "code",
      "source": [
        "#not\n",
        "A = int(input(\"A es 1 o 0 \"))\n",
        "if A==1:\n",
        "  print(\"!A = False\")\n",
        "else:\n",
        "  print(\"!A = True\")"
      ],
      "metadata": {
        "colab": {
          "base_uri": "https://localhost:8080/"
        },
        "id": "oQgXkC1QY4Fx",
        "outputId": "59474a5b-fa56-4910-97e4-16fe69bebf60"
      },
      "execution_count": 50,
      "outputs": [
        {
          "output_type": "stream",
          "name": "stdout",
          "text": [
            "A es 1 o 0 1\n",
            "!A = False\n"
          ]
        }
      ]
    }
  ]
}